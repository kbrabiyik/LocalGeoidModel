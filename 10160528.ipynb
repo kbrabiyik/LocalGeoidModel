{
 "cells": [
  {
   "cell_type": "code",
   "execution_count": 219,
   "metadata": {},
   "outputs": [],
   "source": [
    "import numpy as np \n",
    "import pandas as pd\n",
    "import matplotlib.pyplot as plt \n",
    "import matplotlib as mpl\n",
    "import math\n",
    "from numpy import cos,sin\n",
    "from matplotlib import cm"
   ]
  },
  {
   "cell_type": "code",
   "execution_count": 220,
   "metadata": {},
   "outputs": [],
   "source": [
    "controlpoints_data = pd.read_table(\"10160528_controlpoints.txt\", sep= \"\\s+\",  names = [\"ID\", \"Longitude\", \"Latitude\", \"H\", \"h\"])"
   ]
  },
  {
   "cell_type": "code",
   "execution_count": 230,
   "metadata": {
    "scrolled": true
   },
   "outputs": [
    {
     "data": {
      "text/html": [
       "<div>\n",
       "<style scoped>\n",
       "    .dataframe tbody tr th:only-of-type {\n",
       "        vertical-align: middle;\n",
       "    }\n",
       "\n",
       "    .dataframe tbody tr th {\n",
       "        vertical-align: top;\n",
       "    }\n",
       "\n",
       "    .dataframe thead th {\n",
       "        text-align: right;\n",
       "    }\n",
       "</style>\n",
       "<table border=\"1\" class=\"dataframe\">\n",
       "  <thead>\n",
       "    <tr style=\"text-align: right;\">\n",
       "      <th></th>\n",
       "      <th>ID</th>\n",
       "      <th>Longitude</th>\n",
       "      <th>Latitude</th>\n",
       "      <th>H</th>\n",
       "      <th>h</th>\n",
       "      <th>N</th>\n",
       "      <th>adjustedN</th>\n",
       "      <th>V</th>\n",
       "      <th>VV</th>\n",
       "    </tr>\n",
       "  </thead>\n",
       "  <tbody>\n",
       "    <tr>\n",
       "      <th>0</th>\n",
       "      <td>114</td>\n",
       "      <td>28.924101</td>\n",
       "      <td>41.218487</td>\n",
       "      <td>143.288</td>\n",
       "      <td>179.714</td>\n",
       "      <td>36.426</td>\n",
       "      <td>36.434691</td>\n",
       "      <td>0.008691</td>\n",
       "      <td>7.554076e-05</td>\n",
       "    </tr>\n",
       "    <tr>\n",
       "      <th>1</th>\n",
       "      <td>418</td>\n",
       "      <td>28.967054</td>\n",
       "      <td>41.093149</td>\n",
       "      <td>108.895</td>\n",
       "      <td>145.433</td>\n",
       "      <td>36.538</td>\n",
       "      <td>36.538284</td>\n",
       "      <td>0.000284</td>\n",
       "      <td>8.064174e-08</td>\n",
       "    </tr>\n",
       "    <tr>\n",
       "      <th>2</th>\n",
       "      <td>255</td>\n",
       "      <td>28.772309</td>\n",
       "      <td>41.115345</td>\n",
       "      <td>132.137</td>\n",
       "      <td>168.921</td>\n",
       "      <td>36.784</td>\n",
       "      <td>36.675432</td>\n",
       "      <td>-0.108568</td>\n",
       "      <td>1.178694e-02</td>\n",
       "    </tr>\n",
       "    <tr>\n",
       "      <th>3</th>\n",
       "      <td>107</td>\n",
       "      <td>28.891828</td>\n",
       "      <td>41.044772</td>\n",
       "      <td>54.128</td>\n",
       "      <td>90.741</td>\n",
       "      <td>36.613</td>\n",
       "      <td>36.644722</td>\n",
       "      <td>0.031722</td>\n",
       "      <td>1.006284e-03</td>\n",
       "    </tr>\n",
       "    <tr>\n",
       "      <th>4</th>\n",
       "      <td>366</td>\n",
       "      <td>29.088633</td>\n",
       "      <td>40.966692</td>\n",
       "      <td>49.993</td>\n",
       "      <td>86.510</td>\n",
       "      <td>36.517</td>\n",
       "      <td>36.394392</td>\n",
       "      <td>-0.122608</td>\n",
       "      <td>1.503280e-02</td>\n",
       "    </tr>\n",
       "  </tbody>\n",
       "</table>\n",
       "</div>"
      ],
      "text/plain": [
       "    ID  Longitude   Latitude        H        h       N  adjustedN         V  \\\n",
       "0  114  28.924101  41.218487  143.288  179.714  36.426  36.434691  0.008691   \n",
       "1  418  28.967054  41.093149  108.895  145.433  36.538  36.538284  0.000284   \n",
       "2  255  28.772309  41.115345  132.137  168.921  36.784  36.675432 -0.108568   \n",
       "3  107  28.891828  41.044772   54.128   90.741  36.613  36.644722  0.031722   \n",
       "4  366  29.088633  40.966692   49.993   86.510  36.517  36.394392 -0.122608   \n",
       "\n",
       "             VV  \n",
       "0  7.554076e-05  \n",
       "1  8.064174e-08  \n",
       "2  1.178694e-02  \n",
       "3  1.006284e-03  \n",
       "4  1.503280e-02  "
      ]
     },
     "execution_count": 230,
     "metadata": {},
     "output_type": "execute_result"
    }
   ],
   "source": [
    "controlpoints_data.head() #code to see the values as a proper table\n"
   ]
  },
  {
   "cell_type": "code",
   "execution_count": 222,
   "metadata": {},
   "outputs": [],
   "source": [
    "controlpoints_data[\"N\"] = controlpoints_data[\"h\"]- controlpoints_data[\"H\"]  #ondulation value for control points is calculated and added to the table"
   ]
  },
  {
   "cell_type": "code",
   "execution_count": 223,
   "metadata": {},
   "outputs": [],
   "source": [
    "testpoints_data = pd.read_table(\"10160528_testpoints.txt\", sep= \"\\s+\",  names = [\"ID\", \"Longitude\", \"Latitude\", \"H\", \"h\"])\n"
   ]
  },
  {
   "cell_type": "code",
   "execution_count": 231,
   "metadata": {
    "scrolled": false
   },
   "outputs": [
    {
     "data": {
      "text/html": [
       "<div>\n",
       "<style scoped>\n",
       "    .dataframe tbody tr th:only-of-type {\n",
       "        vertical-align: middle;\n",
       "    }\n",
       "\n",
       "    .dataframe tbody tr th {\n",
       "        vertical-align: top;\n",
       "    }\n",
       "\n",
       "    .dataframe thead th {\n",
       "        text-align: right;\n",
       "    }\n",
       "</style>\n",
       "<table border=\"1\" class=\"dataframe\">\n",
       "  <thead>\n",
       "    <tr style=\"text-align: right;\">\n",
       "      <th></th>\n",
       "      <th>ID</th>\n",
       "      <th>Longitude</th>\n",
       "      <th>Latitude</th>\n",
       "      <th>H</th>\n",
       "      <th>h</th>\n",
       "      <th>N</th>\n",
       "      <th>N_from_geoid_model</th>\n",
       "      <th>v</th>\n",
       "      <th>vv</th>\n",
       "    </tr>\n",
       "  </thead>\n",
       "  <tbody>\n",
       "    <tr>\n",
       "      <th>0</th>\n",
       "      <td>318</td>\n",
       "      <td>29.021809</td>\n",
       "      <td>41.190592</td>\n",
       "      <td>234.515</td>\n",
       "      <td>270.790</td>\n",
       "      <td>36.275</td>\n",
       "      <td>36.358064</td>\n",
       "      <td>0.083064</td>\n",
       "      <td>0.006900</td>\n",
       "    </tr>\n",
       "    <tr>\n",
       "      <th>1</th>\n",
       "      <td>79</td>\n",
       "      <td>28.808243</td>\n",
       "      <td>41.194675</td>\n",
       "      <td>151.930</td>\n",
       "      <td>188.609</td>\n",
       "      <td>36.679</td>\n",
       "      <td>36.563158</td>\n",
       "      <td>-0.115842</td>\n",
       "      <td>0.013419</td>\n",
       "    </tr>\n",
       "    <tr>\n",
       "      <th>2</th>\n",
       "      <td>335</td>\n",
       "      <td>28.832171</td>\n",
       "      <td>41.166263</td>\n",
       "      <td>71.920</td>\n",
       "      <td>108.614</td>\n",
       "      <td>36.694</td>\n",
       "      <td>36.588678</td>\n",
       "      <td>-0.105322</td>\n",
       "      <td>0.011093</td>\n",
       "    </tr>\n",
       "    <tr>\n",
       "      <th>3</th>\n",
       "      <td>8</td>\n",
       "      <td>28.944942</td>\n",
       "      <td>41.035909</td>\n",
       "      <td>16.613</td>\n",
       "      <td>53.176</td>\n",
       "      <td>36.563</td>\n",
       "      <td>36.594461</td>\n",
       "      <td>0.031461</td>\n",
       "      <td>0.000990</td>\n",
       "    </tr>\n",
       "    <tr>\n",
       "      <th>4</th>\n",
       "      <td>195</td>\n",
       "      <td>29.113265</td>\n",
       "      <td>41.100764</td>\n",
       "      <td>109.577</td>\n",
       "      <td>145.945</td>\n",
       "      <td>36.368</td>\n",
       "      <td>36.310398</td>\n",
       "      <td>-0.057602</td>\n",
       "      <td>0.003318</td>\n",
       "    </tr>\n",
       "  </tbody>\n",
       "</table>\n",
       "</div>"
      ],
      "text/plain": [
       "    ID  Longitude   Latitude        H        h       N  N_from_geoid_model  \\\n",
       "0  318  29.021809  41.190592  234.515  270.790  36.275           36.358064   \n",
       "1   79  28.808243  41.194675  151.930  188.609  36.679           36.563158   \n",
       "2  335  28.832171  41.166263   71.920  108.614  36.694           36.588678   \n",
       "3    8  28.944942  41.035909   16.613   53.176  36.563           36.594461   \n",
       "4  195  29.113265  41.100764  109.577  145.945  36.368           36.310398   \n",
       "\n",
       "          v        vv  \n",
       "0  0.083064  0.006900  \n",
       "1 -0.115842  0.013419  \n",
       "2 -0.105322  0.011093  \n",
       "3  0.031461  0.000990  \n",
       "4 -0.057602  0.003318  "
      ]
     },
     "execution_count": 231,
     "metadata": {},
     "output_type": "execute_result"
    }
   ],
   "source": [
    "testpoints_data.head()"
   ]
  },
  {
   "cell_type": "code",
   "execution_count": 225,
   "metadata": {},
   "outputs": [],
   "source": [
    " testpoints_data[\"N\"] = testpoints_data[\"h\"]- testpoints_data[\"H\"]  #ondulation value for test points is calculated and added to the table"
   ]
  },
  {
   "cell_type": "code",
   "execution_count": 226,
   "metadata": {},
   "outputs": [
    {
     "name": "stdout",
     "output_type": "stream",
     "text": [
      "0.08590632505244178 m rmse error\n"
     ]
    }
   ],
   "source": [
    "A_matrix = [] \n",
    "for i in range (len(controlpoints_data)):\n",
    "    A_matrix.append(  [1, \n",
    "                 np.cos(np.radians(controlpoints_data[\"Latitude\"][i]))*np.cos(np.radians(controlpoints_data[\"Longitude\"][i])),\n",
    "                 np.cos(np.radians(controlpoints_data[\"Latitude\"][i]))*np.sin(np.radians(controlpoints_data[\"Longitude\"][i])), \n",
    "                 np.sin(np.radians(controlpoints_data[\"Latitude\"][i]))])\n",
    "A = np.matrix(A_matrix) #  design matrix \n",
    "#print(len(A))\n",
    "\n",
    "np.savetxt('010160528_designmatrix.txt', A, delimiter='  ',header=\"Design matrix of the Control Points\",fmt='%10.10f') #Saving as txt\n",
    "L = np.transpose(np.matrix([controlpoints_data[\"N\"].values.tolist()])) #observations matrix (N values)\n",
    "#print(L)\n",
    "# weight matrix P is given as 1 so not included to calculations\n",
    "X_control = np.dot(np.linalg.inv(np.dot(np.transpose(A),A)),np.dot(np.transpose(A),L))  #((At*A)**(-1))*(At*L) matrix of unknowns\n",
    "#print(X_control)\n",
    "N_adjusted = np.dot(A,X_control) # N\" = A.x\n",
    "controlpoints_data[\"adjustedN\"] = np.dot(A,X_control) #adjustment N value of control points\n",
    "v = np.subtract(np.dot(A, X_control), L)  # adjustedN  V = Ax-l\n",
    "controlpoints_data[\"V\"] = np.subtract(N_adjusted,L)\n",
    "\n",
    "#Errors\n",
    "vv = []\n",
    "k = 0\n",
    "for i in range(len(v)):\n",
    "    vvi = controlpoints_data[\"V\"][i]*controlpoints_data[\"V\"][i]\n",
    "    vv.append([vvi])\n",
    "    k = k + vvi\n",
    "    i = i+1\n",
    "controlpoints_data[\"VV\"] = np.matrix(vv)\n",
    "#print(len(vv))\n",
    "#print(k) # Sum of VV values\n",
    "u = 4 #number of unknown values x0,x1,x2,x3\n",
    "rmse_control = (k/ (len(controlpoints_data)-u) )** (1/2)\n",
    "print(rmse_control,'m rmse error')\n",
    "\n",
    "#vv = np.dot(v,np.transpose(v))\n",
    "#print(np.matrix([controlpoints_data[\"V\"].values.tolist()]))\n",
    "\n",
    "\n",
    "\n"
   ]
  },
  {
   "cell_type": "code",
   "execution_count": 227,
   "metadata": {},
   "outputs": [
    {
     "name": "stdout",
     "output_type": "stream",
     "text": [
      "[216.0, 93.90132211134338, 28.72752196568188, 93.37115592297478]\n",
      "[1.2625599723369223, 0.8324554376506896, 0.4604412493408105, 0.8301020925034959]\n"
     ]
    }
   ],
   "source": [
    "#Error estimates of coefficients (errors of x0,x1,x2,x3)\n",
    "# from Error Propogation law\n",
    "N_matrix = np.dot(np.transpose(A),A)\n",
    "\n",
    "N_matrixlist = N_matrix.tolist()\n",
    "#print(N_matrix)  # 4x4\n",
    "Nr_matrix = []\n",
    "\n",
    "for i in range(len(N_matrixlist)):\n",
    "    Nr_matrix.append(N_matrixlist[i][i])\n",
    "    \n",
    "print(Nr_matrix) # diagonal values(P0,P1,P2,P3) of the matrix since error of coefficient x0 = m0 x (Po)**(1/2) --- m0 is rmse error 0.08590632505244178\n",
    "    \n",
    "X_controllist = X_control.tolist()\n",
    "#print(X_controllist)\n",
    "\n",
    "X_controladj = []\n",
    "for i in range(len(X_controllist)):\n",
    "    X_controladj.append(rmse_control*(np.sqrt(Nr_matrix[i]))) #x0 = m0 x (Po)**(1/2)\n",
    "\n",
    "print(X_controladj)  # deviation of x0,x1,x2,x3\n"
   ]
  },
  {
   "cell_type": "code",
   "execution_count": 236,
   "metadata": {},
   "outputs": [
    {
     "name": "stdout",
     "output_type": "stream",
     "text": [
      "0.08534318747444242 m rmse error\n"
     ]
    }
   ],
   "source": [
    "#A,L,v Matrices of test points\n",
    "A_matrix_test = []\n",
    "for i in range (len(testpoints_data)):\n",
    "    A_matrix_test.append(  [1, \n",
    "                 np.cos(np.radians(testpoints_data[\"Latitude\"][i]))*np.cos(np.radians(testpoints_data[\"Longitude\"][i])),\n",
    "                 np.cos(np.radians(testpoints_data[\"Latitude\"][i]))*np.sin(np.radians(testpoints_data[\"Longitude\"][i])), \n",
    "                 np.sin(np.radians(testpoints_data[\"Latitude\"][i]))])\n",
    "    \n",
    "A_test = np.matrix(A_matrix_test)\n",
    "#print(A_test)\n",
    "\n",
    "testpoints_data[\"N_from_geoid_model\"] = np.dot(A_test,X_control) #because of A matrix of test includes phi and lam values of test points A_test is multiplied with unknown values matrix of model\n",
    "L_test = np.transpose(np.matrix(testpoints_data[\"N\"].values.tolist()))\n",
    "#print(L_test)\n",
    "v_test = np.subtract(np.dot(A_test,X_control),L_test)\n",
    "testpoints_data[\"v\"] = v_test\n",
    "\n",
    "#Errors\n",
    "VV = []\n",
    "c = 0\n",
    "for i in range(len(v_test)):\n",
    "    vvi2 = testpoints_data[\"v\"][i]*testpoints_data[\"v\"][i]\n",
    "    VV.append([vvi2])\n",
    "    c = c + vvi2\n",
    "    i = i+1\n",
    "    \n",
    "testpoints_data[\"vv\"] = np.matrix(VV)\n",
    "u = 4 #number of unknown values x0,x1,x2,x3\n",
    "rmse_test = (c/ (len(testpoints_data)-u) )** (1/2)\n",
    "print(rmse_test,'m rmse error')\n",
    "\n",
    "#Saving as .txt\n",
    "np.savetxt(r'controlpoints_data_with_v.txt', controlpoints_data.values, delimiter = \"    \", header =\"ID--------------Longitude--------Latitude-------Orthometric Height---Elipsoidal Height--------N----------adjustedN-----------v\",fmt='%10.10f')\n",
    "np.savetxt(r'testpoints_data_with_v.txt', testpoints_data.values, delimiter = \"    \", header =\"ID--------------Longitude--------Latitude--------Orthometric Height---Elipsoidal Height--------N--------NfromGeoidModel---------v\",fmt='%10.10f')\n"
   ]
  },
  {
   "cell_type": "code",
   "execution_count": 237,
   "metadata": {
    "scrolled": true
   },
   "outputs": [
    {
     "data": {
      "text/plain": [
       "Text(0.5, 1.0, 'Test points represented by triangle, control points represented by circle')"
      ]
     },
     "execution_count": 237,
     "metadata": {},
     "output_type": "execute_result"
    },
    {
     "data": {
      "image/png": "[encoded data removed]",
      "text/plain": [
       "<Figure size 432x288 with 2 Axes>"
      ]
     },
     "metadata": {
      "needs_background": "light"
     },
     "output_type": "display_data"
    }
   ],
   "source": [
    "#Scatterplot of distribution\n",
    "fig = plt.figure()\n",
    "\n",
    "plt.scatter(testpoints_data[\"Longitude\"],testpoints_data[\"Latitude\"],edgecolors='none',c=testpoints_data[\"N\"], marker= \"^\", cmap = cm.jet)\n",
    "plt.scatter(controlpoints_data[\"Longitude\"],controlpoints_data[\"Latitude\"],edgecolors='none',c=controlpoints_data[\"adjustedN\"], marker= \"o\", cmap = cm.jet)\n",
    "plt.colorbar()\n",
    "plt.title('Test points represented by triangle, control points represented by circle')\n",
    "\n"
   ]
  },
  {
   "cell_type": "code",
   "execution_count": null,
   "metadata": {},
   "outputs": [],
   "source": []
  },
  {
   "cell_type": "code",
   "execution_count": null,
   "metadata": {},
   "outputs": [],
   "source": []
  },
  {
   "cell_type": "code",
   "execution_count": null,
   "metadata": {},
   "outputs": [],
   "source": []
  },
  {
   "cell_type": "code",
   "execution_count": null,
   "metadata": {},
   "outputs": [],
   "source": []
  }
 ],
 "metadata": {
  "kernelspec": {
   "display_name": "Python 3",
   "language": "python",
   "name": "python3"
  },
  "language_info": {
   "codemirror_mode": {
    "name": "ipython",
    "version": 3
   },
   "file_extension": ".py",
   "mimetype": "text/x-python",
   "name": "python",
   "nbconvert_exporter": "python",
   "pygments_lexer": "ipython3",
   "version": "3.8.5"
  }
 },
 "nbformat": 4,
 "nbformat_minor": 4
}
